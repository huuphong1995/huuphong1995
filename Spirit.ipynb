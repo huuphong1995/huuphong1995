{
  "nbformat": 4,
  "nbformat_minor": 0,
  "metadata": {
    "colab": {
      "provenance": [],
      "mount_file_id": "1ClYQx3WwWcmBg_Uo8n9s_JyWIk2ay823",
      "authorship_tag": "ABX9TyOKPiKdpaaYlwvOt7sWc7By",
      "include_colab_link": true
    },
    "kernelspec": {
      "name": "python3",
      "display_name": "Python 3"
    },
    "language_info": {
      "name": "python"
    }
  },
  "cells": [
    {
      "cell_type": "markdown",
      "metadata": {
        "id": "view-in-github",
        "colab_type": "text"
      },
      "source": [
        "<a href=\"https://colab.research.google.com/github/huuphong1995/huuphong1995/blob/master/Spirit.ipynb\" target=\"_parent\"><img src=\"https://colab.research.google.com/assets/colab-badge.svg\" alt=\"Open In Colab\"/></a>"
      ]
    },
    {
      "cell_type": "code",
      "execution_count": null,
      "metadata": {
        "colab": {
          "base_uri": "https://localhost:8080/"
        },
        "id": "JxmREYIavADb",
        "outputId": "3f19e60e-f465-4399-99c7-f038d2643dc8"
      },
      "outputs": [
        {
          "output_type": "stream",
          "name": "stdout",
          "text": [
            "Mounted at /content/drive\n"
          ]
        }
      ],
      "source": [
        "from google.colab import drive\n",
        "drive.mount('/content/drive')"
      ]
    },
    {
      "cell_type": "code",
      "source": [
        "import pickle\n",
        "with open('/content/drive/MyDrive/Spirit1G-test2.pkl', 'rb') as f:\n",
        "    data1 = pickle.load(f)"
      ],
      "metadata": {
        "id": "Z-nv8inXvLYg"
      },
      "execution_count": null,
      "outputs": []
    },
    {
      "cell_type": "code",
      "source": [
        "x_te = data1['x_te']\n",
        "y_te = data1['y_te']"
      ],
      "metadata": {
        "id": "5zGnrwCzvmId"
      },
      "execution_count": null,
      "outputs": []
    },
    {
      "cell_type": "code",
      "source": [
        "import random\n",
        "# Separate the anomaly and normal instances in the testing set\n",
        "anomalies_te = [x for x, y in zip(x_te, y_te) if y == 1]\n",
        "normal_te = [x for x, y in zip(x_te, y_te) if y == 0]\n",
        "\n",
        "# Randomly sample equal number of anomalies and normal instances for testing\n",
        "num_samples_te = min(len(anomalies_te), len(normal_te))\n",
        "sampled_anomalies_te = random.sample(anomalies_te, num_samples_te)\n",
        "sampled_normal_te = random.sample(normal_te, num_samples_te)\n",
        "\n",
        "# Combine the sampled anomalies and normal instances for the balanced testing set\n",
        "x_te_balanced = sampled_anomalies_te + sampled_normal_te\n",
        "y_te_balanced = [1] * num_samples_te + [0] * num_samples_te"
      ],
      "metadata": {
        "id": "l7w6ZDGCvooe"
      },
      "execution_count": null,
      "outputs": []
    },
    {
      "cell_type": "code",
      "source": [
        "from sklearn.utils import shuffle\n",
        "x_te_balanced, y_te_balanced = shuffle(x_te_balanced, y_te_balanced)"
      ],
      "metadata": {
        "id": "-QJ_5BTKvr8z"
      },
      "execution_count": null,
      "outputs": []
    },
    {
      "cell_type": "code",
      "source": [
        "len(x_te_balanced)"
      ],
      "metadata": {
        "colab": {
          "base_uri": "https://localhost:8080/"
        },
        "id": "L8v-ooEdwB56",
        "outputId": "95a4b66c-c231-4f21-fbf9-4d0c1c86a270"
      },
      "execution_count": null,
      "outputs": [
        {
          "output_type": "execute_result",
          "data": {
            "text/plain": [
              "17608"
            ]
          },
          "metadata": {},
          "execution_count": 16
        }
      ]
    },
    {
      "cell_type": "code",
      "source": [
        "len(y_te_balanced)"
      ],
      "metadata": {
        "colab": {
          "base_uri": "https://localhost:8080/"
        },
        "id": "11Pq-J8LwQ_N",
        "outputId": "b171f1ac-03f0-41d3-c5eb-78d748a61808"
      },
      "execution_count": null,
      "outputs": [
        {
          "output_type": "execute_result",
          "data": {
            "text/plain": [
              "17608"
            ]
          },
          "metadata": {},
          "execution_count": 17
        }
      ]
    },
    {
      "cell_type": "code",
      "source": [
        "anomaly = [x for x, y in zip(x_te_balanced, y_te_balanced) if y == 1]\n",
        "normal = [x for x, y in zip(x_te_balanced, y_te_balanced) if y == 0]"
      ],
      "metadata": {
        "id": "E9riIK3avxnI"
      },
      "execution_count": null,
      "outputs": []
    },
    {
      "cell_type": "code",
      "source": [
        "len(anomaly)"
      ],
      "metadata": {
        "colab": {
          "base_uri": "https://localhost:8080/"
        },
        "id": "4h69TyaGv0ob",
        "outputId": "6394c5d4-5b3c-42f4-d0d9-cc15293539c4"
      },
      "execution_count": null,
      "outputs": [
        {
          "output_type": "execute_result",
          "data": {
            "text/plain": [
              "8804"
            ]
          },
          "metadata": {},
          "execution_count": 19
        }
      ]
    },
    {
      "cell_type": "code",
      "source": [
        "len(normal)"
      ],
      "metadata": {
        "colab": {
          "base_uri": "https://localhost:8080/"
        },
        "id": "4xLepDuiv10k",
        "outputId": "c4df5caa-3b38-4577-c976-33401abd6b61"
      },
      "execution_count": null,
      "outputs": [
        {
          "output_type": "execute_result",
          "data": {
            "text/plain": [
              "8804"
            ]
          },
          "metadata": {},
          "execution_count": 20
        }
      ]
    },
    {
      "cell_type": "code",
      "source": [
        "import numpy as np\n",
        "x_te_balanced = np.array(x_te_balanced)\n",
        "y_te_balanced = np.array(y_te_balanced)"
      ],
      "metadata": {
        "id": "TeWufPjBwekg"
      },
      "execution_count": null,
      "outputs": []
    },
    {
      "cell_type": "code",
      "source": [
        "import tensorflow as tf\n",
        "from tensorflow import keras\n",
        "from keras.utils import Sequence\n",
        "from keras.optimizers import SGD, Adam\n",
        "from keras.models import Sequential\n",
        "from keras.layers import Conv1D, MaxPooling1D, Flatten, Dense\n",
        "\n",
        "from keras.models import load_model\n",
        "\n",
        "# Step 1: Load the model\n",
        "model = load_model('/content/drive/MyDrive/model_Spirit1G.h5')"
      ],
      "metadata": {
        "id": "TpOMwqeEwlPg"
      },
      "execution_count": null,
      "outputs": []
    },
    {
      "cell_type": "code",
      "source": [
        "# Evaluate the model\n",
        "loss, accuracy = model.evaluate(x_te_balanced, y_te_balanced)\n",
        "print('Accuracy:', accuracy)"
      ],
      "metadata": {
        "colab": {
          "base_uri": "https://localhost:8080/"
        },
        "id": "1LWYGj9LwqD7",
        "outputId": "a5bb82c2-ca5d-4bc3-9560-d704aab363ef"
      },
      "execution_count": null,
      "outputs": [
        {
          "output_type": "stream",
          "name": "stdout",
          "text": [
            "551/551 [==============================] - 6s 11ms/step - loss: 0.3757 - accuracy: 0.9178\n",
            "Accuracy: 0.9177646636962891\n"
          ]
        }
      ]
    },
    {
      "cell_type": "code",
      "source": [
        "import numpy as np\n",
        "from sklearn.metrics import f1_score, recall_score, precision_score\n",
        "\n",
        "# Make predictions on the balanced testing set\n",
        "y_pred_prob = model.predict(x_te_balanced)\n",
        "y_pred = np.round(y_pred_prob).astype(int)\n",
        "\n",
        "# Calculate the F1-score\n",
        "f1 = f1_score(y_te_balanced, y_pred)\n",
        "print('F1-score:', f1)\n",
        "\n",
        "# Calculate the recall\n",
        "recall = recall_score(y_te_balanced, y_pred)\n",
        "print('Recall:', recall)"
      ],
      "metadata": {
        "colab": {
          "base_uri": "https://localhost:8080/"
        },
        "id": "INKaGMORwyAe",
        "outputId": "c3b62bd9-45cb-468c-9760-91ff9fbe3dc0"
      },
      "execution_count": null,
      "outputs": [
        {
          "output_type": "stream",
          "name": "stdout",
          "text": [
            "551/551 [==============================] - 4s 7ms/step\n",
            "F1-score: 0.9104182133135363\n",
            "Recall: 0.8357564743298501\n"
          ]
        }
      ]
    },
    {
      "cell_type": "code",
      "source": [
        "import seaborn as sns\n",
        "import matplotlib.pyplot as plt\n",
        "from sklearn.metrics import confusion_matrix\n",
        "\n",
        "# Calculate the confusion matrix\n",
        "cm = confusion_matrix(y_te_balanced, y_pred)\n",
        "\n",
        "# Plot the confusion matrix\n",
        "plt.figure(figsize=(8, 6))\n",
        "sns.heatmap(cm, annot=True, fmt='d', cmap='Blues')\n",
        "plt.title('Confusion Matrix')\n",
        "plt.xlabel('Predicted Labels')\n",
        "plt.ylabel('True Labels')\n",
        "plt.show()"
      ],
      "metadata": {
        "colab": {
          "base_uri": "https://localhost:8080/",
          "height": 564
        },
        "id": "9_AQyVzMw3KL",
        "outputId": "6068a1e5-754b-4a7a-bc14-0b8a6799e303"
      },
      "execution_count": null,
      "outputs": [
        {
          "output_type": "display_data",
          "data": {
            "text/plain": [
              "<Figure size 800x600 with 2 Axes>"
            ],
            "image/png": "[encoded data removed]"
          },
          "metadata": {}
        }
      ]
    }
  ]
}