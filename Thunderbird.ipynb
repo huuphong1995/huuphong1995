{
  "nbformat": 4,
  "nbformat_minor": 0,
  "metadata": {
    "colab": {
      "provenance": [],
      "mount_file_id": "104M26lqG90UC9IUM0QltRMlcnfOeCQjs",
      "authorship_tag": "ABX9TyP5cUIXpXceNb9HA2fOjrwh",
      "include_colab_link": true
    },
    "kernelspec": {
      "name": "python3",
      "display_name": "Python 3"
    },
    "language_info": {
      "name": "python"
    }
  },
  "cells": [
    {
      "cell_type": "markdown",
      "metadata": {
        "id": "view-in-github",
        "colab_type": "text"
      },
      "source": [
        "<a href=\"https://colab.research.google.com/github/huuphong1995/huuphong1995/blob/master/Thunderbird.ipynb\" target=\"_parent\"><img src=\"https://colab.research.google.com/assets/colab-badge.svg\" alt=\"Open In Colab\"/></a>"
      ]
    },
    {
      "cell_type": "code",
      "execution_count": null,
      "metadata": {
        "id": "5oYptWPeHaKW"
      },
      "outputs": [],
      "source": [
        "import pickle\n",
        "with open('/content/drive/MyDrive/Thunderbird10M-test2.pkl', 'rb') as f:\n",
        "    data1 = pickle.load(f)"
      ]
    },
    {
      "cell_type": "code",
      "source": [
        "x_te = data1['x_te']\n",
        "y_te = data1['y_te']"
      ],
      "metadata": {
        "id": "MqaQ0mqNHrNm"
      },
      "execution_count": null,
      "outputs": []
    },
    {
      "cell_type": "code",
      "source": [
        "import random\n",
        "# Separate the anomaly and normal instances in the testing set\n",
        "anomalies_te = [x for x, y in zip(x_te, y_te) if y == 1]\n",
        "normal_te = [x for x, y in zip(x_te, y_te) if y == 0]\n",
        "\n",
        "# Randomly sample equal number of anomalies and normal instances for testing\n",
        "num_samples_te = min(len(anomalies_te), len(normal_te))\n",
        "sampled_anomalies_te = random.sample(anomalies_te, num_samples_te)\n",
        "sampled_normal_te = random.sample(normal_te, num_samples_te)\n",
        "\n",
        "# Combine the sampled anomalies and normal instances for the balanced testing set\n",
        "x_te_balanced = sampled_anomalies_te + sampled_normal_te\n",
        "y_te_balanced = [1] * num_samples_te + [0] * num_samples_te"
      ],
      "metadata": {
        "id": "YljcryEPHvY1"
      },
      "execution_count": null,
      "outputs": []
    },
    {
      "cell_type": "code",
      "source": [
        "len(anomalies_te)"
      ],
      "metadata": {
        "colab": {
          "base_uri": "https://localhost:8080/"
        },
        "id": "NGDj0EB7H1xr",
        "outputId": "28994a3e-f51a-4c45-8200-35c0d7a23cc7"
      },
      "execution_count": null,
      "outputs": [
        {
          "output_type": "execute_result",
          "data": {
            "text/plain": [
              "913"
            ]
          },
          "metadata": {},
          "execution_count": 5
        }
      ]
    },
    {
      "cell_type": "code",
      "source": [
        "len(normal_te)"
      ],
      "metadata": {
        "colab": {
          "base_uri": "https://localhost:8080/"
        },
        "id": "PYLE--DTH5BX",
        "outputId": "e6504b1b-94fd-4776-a68b-7e51a07a0141"
      },
      "execution_count": null,
      "outputs": [
        {
          "output_type": "execute_result",
          "data": {
            "text/plain": [
              "1999067"
            ]
          },
          "metadata": {},
          "execution_count": 6
        }
      ]
    },
    {
      "cell_type": "code",
      "source": [
        "from sklearn.utils import shuffle\n",
        "x_te_balanced, y_te_balanced = shuffle(x_te_balanced, y_te_balanced)"
      ],
      "metadata": {
        "id": "sKZikWKGHweb"
      },
      "execution_count": null,
      "outputs": []
    },
    {
      "cell_type": "code",
      "source": [
        "len(x_te_balanced)"
      ],
      "metadata": {
        "colab": {
          "base_uri": "https://localhost:8080/"
        },
        "id": "TY3rBOweIPH-",
        "outputId": "a619b4f8-541e-4234-f9d2-dd7039a7ed18"
      },
      "execution_count": null,
      "outputs": [
        {
          "output_type": "execute_result",
          "data": {
            "text/plain": [
              "1826"
            ]
          },
          "metadata": {},
          "execution_count": 7
        }
      ]
    },
    {
      "cell_type": "code",
      "source": [
        "import numpy as np\n",
        "x_te_balanced = np.array(x_te_balanced)\n",
        "y_te_balanced = np.array(y_te_balanced)"
      ],
      "metadata": {
        "id": "WAifKciUITpb"
      },
      "execution_count": null,
      "outputs": []
    },
    {
      "cell_type": "code",
      "source": [
        "import tensorflow as tf\n",
        "from tensorflow import keras\n",
        "from keras.utils import Sequence\n",
        "from keras.optimizers import SGD, Adam\n",
        "from keras.models import Sequential\n",
        "from keras.layers import Conv1D, MaxPooling1D, Flatten, Dense\n",
        "\n",
        "from keras.models import load_model\n",
        "\n",
        "# Step 1: Load the model\n",
        "model = load_model('/content/drive/MyDrive/model_Thunderbird10M.h5')"
      ],
      "metadata": {
        "id": "2OXtrGxuIZdM"
      },
      "execution_count": null,
      "outputs": []
    },
    {
      "cell_type": "code",
      "source": [
        "# Evaluate the model\n",
        "loss, accuracy = model.evaluate(x_te_balanced, y_te_balanced)\n",
        "print('Accuracy:', accuracy)"
      ],
      "metadata": {
        "colab": {
          "base_uri": "https://localhost:8080/"
        },
        "id": "O-qwgK8YIl8u",
        "outputId": "4f25062e-0de8-47ce-8d17-8bb25cb8de61"
      },
      "execution_count": null,
      "outputs": [
        {
          "output_type": "stream",
          "name": "stdout",
          "text": [
            "58/58 [==============================] - 1s 14ms/step - loss: 0.2875 - accuracy: 0.9617\n",
            "Accuracy: 0.9616648554801941\n"
          ]
        }
      ]
    },
    {
      "cell_type": "code",
      "source": [
        "import numpy as np\n",
        "from sklearn.metrics import f1_score, recall_score, precision_score\n",
        "\n",
        "# Make predictions on the balanced testing set\n",
        "y_pred_prob = model.predict(x_te_balanced)\n",
        "y_pred = np.round(y_pred_prob).astype(int)\n",
        "\n",
        "# Calculate the F1-score\n",
        "f1 = f1_score(y_te_balanced, y_pred)\n",
        "print('F1-score:', f1)\n",
        "\n",
        "# Calculate the recall\n",
        "recall = recall_score(y_te_balanced, y_pred)\n",
        "print('Recall:', recall)"
      ],
      "metadata": {
        "colab": {
          "base_uri": "https://localhost:8080/"
        },
        "id": "DMyN8ierIpbA",
        "outputId": "f4a0c956-78a4-4111-8a06-f0a8cc9fa5b5"
      },
      "execution_count": null,
      "outputs": [
        {
          "output_type": "stream",
          "name": "stdout",
          "text": [
            "58/58 [==============================] - 2s 25ms/step\n",
            "F1-score: 0.9601820250284413\n",
            "Recall: 0.9244249726177437\n"
          ]
        }
      ]
    },
    {
      "cell_type": "code",
      "source": [
        "import seaborn as sns\n",
        "import matplotlib.pyplot as plt\n",
        "from sklearn.metrics import confusion_matrix\n",
        "\n",
        "# Calculate the confusion matrix\n",
        "cm = confusion_matrix(y_te_balanced, y_pred)\n",
        "\n",
        "# Plot the confusion matrix\n",
        "plt.figure(figsize=(8, 6))\n",
        "sns.heatmap(cm, annot=True, fmt='d', cmap='Blues')\n",
        "plt.title('Confusion Matrix')\n",
        "plt.xlabel('Predicted Labels')\n",
        "plt.ylabel('True Labels')\n",
        "plt.show()"
      ],
      "metadata": {
        "colab": {
          "base_uri": "https://localhost:8080/",
          "height": 564
        },
        "id": "PAHQzzFQIwXa",
        "outputId": "3f3f49bb-503a-4175-9fdc-878de6340bc7"
      },
      "execution_count": null,
      "outputs": [
        {
          "output_type": "display_data",
          "data": {
            "text/plain": [
              "<Figure size 800x600 with 2 Axes>"
            ],
            "image/png": "[encoded data removed]"
          },
          "metadata": {}
        }
      ]
    }
  ]
}