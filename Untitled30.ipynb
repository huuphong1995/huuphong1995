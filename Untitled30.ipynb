{
  "nbformat": 4,
  "nbformat_minor": 0,
  "metadata": {
    "colab": {
      "provenance": [],
      "mount_file_id": "1kRBFrH63Bi2cOy2IKsp5sK7EQZIE8_r8",
      "authorship_tag": "ABX9TyM+BP0H85iVqiJOrKf5ASCu",
      "include_colab_link": true
    },
    "kernelspec": {
      "name": "python3",
      "display_name": "Python 3"
    },
    "language_info": {
      "name": "python"
    }
  },
  "cells": [
    {
      "cell_type": "markdown",
      "metadata": {
        "id": "view-in-github",
        "colab_type": "text"
      },
      "source": [
        "<a href=\"https://colab.research.google.com/github/huuphong1995/huuphong1995/blob/master/Untitled30.ipynb\" target=\"_parent\"><img src=\"https://colab.research.google.com/assets/colab-badge.svg\" alt=\"Open In Colab\"/></a>"
      ]
    },
    {
      "cell_type": "code",
      "execution_count": null,
      "metadata": {
        "id": "ZS4vBd4H9oCS"
      },
      "outputs": [],
      "source": [
        "import pickle\n",
        "with open('/content/drive/MyDrive/HDFS-test2.pkl', 'rb') as f:\n",
        "    data = pickle.load(f)"
      ]
    },
    {
      "cell_type": "code",
      "source": [
        "x_tr = data['x_te']\n",
        "y_tr = data['y_te']"
      ],
      "metadata": {
        "id": "BR-UGziv_yjz"
      },
      "execution_count": null,
      "outputs": []
    },
    {
      "cell_type": "code",
      "source": [
        "# Separate the anomaly and normal instances in the training set\n",
        "anomalies_tr = [x for x, y in zip(x_tr, y_tr) if y == 1]\n",
        "normal_tr = [x for x, y in zip(x_tr, y_tr) if y == 0]"
      ],
      "metadata": {
        "id": "6VlIyTcMAKda"
      },
      "execution_count": null,
      "outputs": []
    },
    {
      "cell_type": "code",
      "source": [
        "len(anomalies_tr)"
      ],
      "metadata": {
        "colab": {
          "base_uri": "https://localhost:8080/"
        },
        "id": "qQMH_svtARGf",
        "outputId": "a9b86d2a-10bc-48a8-a983-998bfecd38be"
      },
      "execution_count": null,
      "outputs": [
        {
          "output_type": "execute_result",
          "data": {
            "text/plain": [
              "968750"
            ]
          },
          "metadata": {},
          "execution_count": 5
        }
      ]
    },
    {
      "cell_type": "code",
      "source": [
        "len(normal_tr)"
      ],
      "metadata": {
        "colab": {
          "base_uri": "https://localhost:8080/"
        },
        "id": "o3iyjRQ-AU4a",
        "outputId": "3dd51125-b157-4cec-bdb9-ac7577293d41"
      },
      "execution_count": null,
      "outputs": [
        {
          "output_type": "execute_result",
          "data": {
            "text/plain": [
              "3918017"
            ]
          },
          "metadata": {},
          "execution_count": 6
        }
      ]
    },
    {
      "cell_type": "code",
      "source": [
        "import random\n",
        "# Randomly sample equal number of anomalies and normal instances\n",
        "num_samples_tr = min(len(anomalies_tr), len(normal_tr))\n",
        "sampled_anomalies_tr = random.sample(anomalies_tr, num_samples_tr)\n",
        "sampled_normal_tr = random.sample(normal_tr, num_samples_tr)"
      ],
      "metadata": {
        "id": "RxjdZ6f7AcEG"
      },
      "execution_count": null,
      "outputs": []
    },
    {
      "cell_type": "code",
      "source": [
        "# Combine the sampled anomalies and normal instances for the balanced training set\n",
        "x_tr_balanced = sampled_anomalies_tr + sampled_normal_tr\n",
        "y_tr_balanced = [1] * num_samples_tr + [0] * num_samples_tr"
      ],
      "metadata": {
        "id": "QJSGOcHsAfnL"
      },
      "execution_count": null,
      "outputs": []
    },
    {
      "cell_type": "code",
      "source": [
        "from sklearn.utils import shuffle\n",
        "x_tr_balanced, y_tr_balanced = shuffle(x_tr_balanced, y_tr_balanced)"
      ],
      "metadata": {
        "id": "xgG29-YEAiah"
      },
      "execution_count": null,
      "outputs": []
    },
    {
      "cell_type": "code",
      "source": [
        "x_tr_balanced = x_tr_balanced[:50000]\n",
        "y_tr_balanced = y_tr_balanced[:50000]"
      ],
      "metadata": {
        "id": "qNu6V-ZwAubP"
      },
      "execution_count": null,
      "outputs": []
    },
    {
      "cell_type": "code",
      "source": [
        "import numpy as np\n",
        "x_tr_balanced = np.array(x_tr_balanced)\n",
        "y_tr_balanced = np.array(y_tr_balanced)"
      ],
      "metadata": {
        "id": "nE7f_1WmAzTW"
      },
      "execution_count": null,
      "outputs": []
    },
    {
      "cell_type": "code",
      "source": [
        "import tensorflow as tf\n",
        "from tensorflow import keras\n",
        "from keras.utils import Sequence\n",
        "from keras.optimizers import SGD, Adam\n",
        "from keras.models import Sequential\n",
        "from keras.layers import Conv1D, MaxPooling1D, Flatten, Dense\n",
        "# Define the CNN-based model\n",
        "model = Sequential()\n",
        "model.add(Conv1D(64, 3, activation='relu', input_shape=(20, 768)))\n",
        "model.add(MaxPooling1D(2))\n",
        "model.add(Conv1D(64, 3, activation='relu'))\n",
        "model.add(MaxPooling1D(2))\n",
        "model.add(Flatten())\n",
        "model.add(Dense(64, activation='relu'))\n",
        "model.add(Dense(1, activation='sigmoid'))\n",
        "\n",
        "# Compile the model\n",
        "model.compile(optimizer='adam', loss='binary_crossentropy', metrics=['accuracy'])\n",
        "\n",
        "# Train the model\n",
        "model.fit(x_tr_balanced, y_tr_balanced, batch_size=32, epochs=10)"
      ],
      "metadata": {
        "colab": {
          "base_uri": "https://localhost:8080/"
        },
        "id": "7Apfv2B_A1eA",
        "outputId": "0f16a2e0-56ca-4fce-a76f-f6e6ca2ac66b"
      },
      "execution_count": null,
      "outputs": [
        {
          "output_type": "stream",
          "name": "stdout",
          "text": [
            "Epoch 1/10\n",
            "1563/1563 [==============================] - 42s 25ms/step - loss: 0.6771 - accuracy: 0.5509\n",
            "Epoch 2/10\n",
            "1563/1563 [==============================] - 33s 21ms/step - loss: 0.6556 - accuracy: 0.5758\n",
            "Epoch 3/10\n",
            "1563/1563 [==============================] - 35s 23ms/step - loss: 0.6499 - accuracy: 0.5855\n",
            "Epoch 4/10\n",
            "1563/1563 [==============================] - 33s 21ms/step - loss: 0.6489 - accuracy: 0.5829\n",
            "Epoch 5/10\n",
            "1563/1563 [==============================] - 33s 21ms/step - loss: 0.6483 - accuracy: 0.5864\n",
            "Epoch 6/10\n",
            "1563/1563 [==============================] - 34s 22ms/step - loss: 0.6478 - accuracy: 0.5872\n",
            "Epoch 7/10\n",
            "1563/1563 [==============================] - 33s 21ms/step - loss: 0.6469 - accuracy: 0.5867\n",
            "Epoch 8/10\n",
            "1563/1563 [==============================] - 33s 21ms/step - loss: 0.6473 - accuracy: 0.5877\n",
            "Epoch 9/10\n",
            "1563/1563 [==============================] - 33s 21ms/step - loss: 0.6467 - accuracy: 0.5880\n",
            "Epoch 10/10\n",
            "1563/1563 [==============================] - 33s 21ms/step - loss: 0.6480 - accuracy: 0.5849\n"
          ]
        },
        {
          "output_type": "execute_result",
          "data": {
            "text/plain": [
              "<keras.callbacks.History at 0x7f2441c82aa0>"
            ]
          },
          "metadata": {},
          "execution_count": 12
        }
      ]
    }
  ]
}